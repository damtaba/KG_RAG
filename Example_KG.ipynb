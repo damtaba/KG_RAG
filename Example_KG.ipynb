{
 "cells": [
  {
   "cell_type": "markdown",
   "id": "eed561d6-1396-4b3c-807a-bfa41f963b97",
   "metadata": {},
   "source": [
    "# Paqutes"
   ]
  },
  {
   "cell_type": "code",
   "execution_count": 18,
   "id": "f02f691e-6d39-43c6-bc79-9cb7a51d91a2",
   "metadata": {},
   "outputs": [],
   "source": [
    "!pip install -qU langchain-openai\n",
    "# !pip install langchain==0.3\n",
    "# !pip install langchain-community==0.2.16\n",
    "!pip install FPDF\n",
    "!pip install pypdf\n",
    "!pip install llama-index\n",
    "!pip install neo4j\n",
    "!pip install --upgrade --quiet  langchain langchain-community langchain-openai langchain-experimental neo4j"
   ]
  },
  {
   "cell_type": "code",
   "execution_count": 72,
   "id": "9ed0b765-c18f-478d-87c6-52d1bbac1f52",
   "metadata": {},
   "outputs": [],
   "source": [
    "from langchain.document_loaders import TextLoader\n",
    "from langchain.text_splitter import CharacterTextSplitter\n",
    "from langchain_community.document_loaders import PyPDFLoader\n",
    "\n",
    "from langchain_openai import ChatOpenAI\n",
    "from langchain_experimental.graph_transformers import LLMGraphTransformer\n",
    "from langchain_community.graphs import Neo4jGraph\n",
    "from langchain_core.documents import Document\n",
    "from langchain_community.graph_vectorstores.extractors import (\n",
    "    KeybertLinkExtractor,\n",
    "    LinkExtractorTransformer,\n",
    ")\n",
    "from langchain.chains import GraphCypherQAChain\n",
    "\n",
    "from fpdf import FPDF\n",
    "import getpass\n",
    "import os\n",
    "import networkx as nx\n",
    "from llama_index.core.query_engine import RetrieverQueryEngine\n",
    "from llama_index.core.retrievers import KnowledgeGraphRAGRetriever\n",
    "from langchain_openai import OpenAIEmbeddings\n",
    "from langchain_community.graph_vectorstores import CassandraGraphVectorStore\n",
    "# from llama_index.core.response_synthesis import ResponseSynthesizer\n",
    "# import matplotlib.pyplot as plt"
   ]
  },
  {
   "cell_type": "markdown",
   "id": "732456cd-7db4-40f6-b571-e2294a055166",
   "metadata": {},
   "source": [
    "# Inicio el LLMs y creo el graph"
   ]
  },
  {
   "cell_type": "code",
   "execution_count": 8,
   "id": "f3157dcb-0b2c-4f15-bc79-55eba22f6492",
   "metadata": {},
   "outputs": [
    {
     "name": "stdin",
     "output_type": "stream",
     "text": [
      " ········\n"
     ]
    }
   ],
   "source": [
    "os.environ[\"OPENAI_API_KEY\"] = getpass.getpass()"
   ]
  },
  {
   "cell_type": "code",
   "execution_count": 27,
   "id": "89aaaecf-b4d2-48bd-92cd-773495f36def",
   "metadata": {},
   "outputs": [],
   "source": [
    "# Initialize LLM\n",
    "llm = ChatOpenAI(model=\"gpt-3.5-turbo\", temperature = 0)"
   ]
  },
  {
   "cell_type": "code",
   "execution_count": 28,
   "id": "f96210e7-3b45-4c22-9667-6f16b3c846b7",
   "metadata": {},
   "outputs": [],
   "source": [
    "llm_transformer = LLMGraphTransformer(llm=llm)"
   ]
  },
  {
   "cell_type": "markdown",
   "id": "c9702b62-2f0e-46f7-8cd4-6efbc0e45719",
   "metadata": {},
   "source": [
    "# Cargo y preproceso el texto"
   ]
  },
  {
   "cell_type": "code",
   "execution_count": 47,
   "id": "de6b83f0-0811-47eb-9ac9-1613e7e19f6c",
   "metadata": {},
   "outputs": [],
   "source": [
    "text = \"\"\"Harry Potter is a wizard who studies at Hogwarts School of \n",
    "Witchcraft and Wizardry. His best friends are Hermione Granger and Ron Weasley. Harry is in Gryffindor House, \n",
    "just like Ron and Hermione. He often faces challenges from Draco Malfoy, who belongs to Slytherin House. Harry's parents,\n",
    "Lily and James Potter, were killed by Lord Voldemort, a dark wizard. Harry is known for defeating Voldemort as a baby and later becoming the owner \n",
    "of the Elder Wand.\"\"\""
   ]
  },
  {
   "cell_type": "code",
   "execution_count": 48,
   "id": "e19f1941-b9d1-4623-9ffa-7c34c263a489",
   "metadata": {},
   "outputs": [],
   "source": [
    "documents = [Document(page_content=text)]\n",
    "graph_documents = llm_transformer.convert_to_graph_documents(documents)"
   ]
  },
  {
   "cell_type": "code",
   "execution_count": 55,
   "id": "295bb4cb-33a2-4ba4-aef7-2eae0bb0ab32",
   "metadata": {},
   "outputs": [
    {
     "name": "stdout",
     "output_type": "stream",
     "text": [
      "Nodes:[Node(id='Harry Potter', type='Person', properties={}), Node(id='Wizard', type='Occupation', properties={}), Node(id='Hogwarts School Of Witchcraft And Wizardry', type='School', properties={}), Node(id='Hermione Granger', type='Person', properties={}), Node(id='Ron Weasley', type='Person', properties={}), Node(id='Gryffindor House', type='House', properties={}), Node(id='Draco Malfoy', type='Person', properties={}), Node(id='Slytherin House', type='House', properties={}), Node(id='Lily Potter', type='Person', properties={}), Node(id='James Potter', type='Person', properties={}), Node(id='Lord Voldemort', type='Person', properties={}), Node(id='Elder Wand', type='Object', properties={})]\n",
      "\n",
      "Relationships:[Relationship(source=Node(id='Harry Potter', type='Person', properties={}), target=Node(id='Wizard', type='Occupation', properties={}), type='HAS_OCCUPATION', properties={}), Relationship(source=Node(id='Harry Potter', type='Person', properties={}), target=Node(id='Hogwarts School Of Witchcraft And Wizardry', type='School', properties={}), type='STUDIES_AT', properties={}), Relationship(source=Node(id='Harry Potter', type='Person', properties={}), target=Node(id='Hermione Granger', type='Person', properties={}), type='HAS_FRIEND', properties={}), Relationship(source=Node(id='Harry Potter', type='Person', properties={}), target=Node(id='Ron Weasley', type='Person', properties={}), type='HAS_FRIEND', properties={}), Relationship(source=Node(id='Harry Potter', type='Person', properties={}), target=Node(id='Gryffindor House', type='House', properties={}), type='BELONGS_TO', properties={}), Relationship(source=Node(id='Ron Weasley', type='Person', properties={}), target=Node(id='Gryffindor House', type='House', properties={}), type='BELONGS_TO', properties={}), Relationship(source=Node(id='Hermione Granger', type='Person', properties={}), target=Node(id='Gryffindor House', type='House', properties={}), type='BELONGS_TO', properties={}), Relationship(source=Node(id='Harry Potter', type='Person', properties={}), target=Node(id='Draco Malfoy', type='Person', properties={}), type='RIVAL_OF', properties={}), Relationship(source=Node(id='Draco Malfoy', type='Person', properties={}), target=Node(id='Slytherin House', type='House', properties={}), type='BELONGS_TO', properties={}), Relationship(source=Node(id='Harry Potter', type='Person', properties={}), target=Node(id='Lily Potter', type='Person', properties={}), type='PARENT_OF', properties={}), Relationship(source=Node(id='Harry Potter', type='Person', properties={}), target=Node(id='James Potter', type='Person', properties={}), type='PARENT_OF', properties={}), Relationship(source=Node(id='Lily Potter', type='Person', properties={}), target=Node(id='Lord Voldemort', type='Person', properties={}), type='KILLED_BY', properties={}), Relationship(source=Node(id='Harry Potter', type='Person', properties={}), target=Node(id='Lord Voldemort', type='Person', properties={}), type='RIVAL_OF', properties={}), Relationship(source=Node(id='Harry Potter', type='Person', properties={}), target=Node(id='Elder Wand', type='Object', properties={}), type='OWNS', properties={})]\n"
     ]
    }
   ],
   "source": [
    "print(f\"Nodes:{graph_documents[0].nodes}\\n\")\n",
    "print(f\"Relationships:{graph_documents[0].relationships}\")"
   ]
  },
  {
   "cell_type": "code",
   "execution_count": 58,
   "id": "5b34ca23-bd0b-427d-80c5-3c951f69e019",
   "metadata": {},
   "outputs": [
    {
     "data": {
      "text/plain": [
       "Relationship(source=Node(id='Harry Potter', type='Person', properties={}), target=Node(id='Wizard', type='Occupation', properties={}), type='HAS_OCCUPATION', properties={})"
      ]
     },
     "execution_count": 58,
     "metadata": {},
     "output_type": "execute_result"
    }
   ],
   "source": [
    "graph_documents[0].relationships[0]"
   ]
  },
  {
   "cell_type": "markdown",
   "id": "bebe83be-df62-4879-8e77-be560c048334",
   "metadata": {},
   "source": [
    "# Store Graph"
   ]
  },
  {
   "cell_type": "code",
   "execution_count": 68,
   "id": "f71d1822-f962-40cd-b322-76735ebd59c8",
   "metadata": {},
   "outputs": [],
   "source": [
    "os.environ[\"NEO4J_URI\"]='neo4j+s://1a2965d6.databases.neo4j.io'\n",
    "os.environ[\"NEO4J_USERNAME\"]='neo4j'\n",
    "os.environ[\"NEO4J_PASSWORD\"]='Zifh1asGv3erUqx6F9TNj93HixcqvOLqJTrCjA68F6E'\n",
    "# os.environ[\"AURA_INSTANCEID\"]='1a2965d6'\n",
    "# os.environ[\"AURA_INSTANCENAME\"]='Instance01'\n",
    "graph = Neo4jGraph(refresh_schema=False)"
   ]
  },
  {
   "cell_type": "code",
   "execution_count": 69,
   "id": "10fc51a4-10b0-49a8-8d61-e690c37f224c",
   "metadata": {},
   "outputs": [],
   "source": [
    "graph.add_graph_documents(graph_documents)"
   ]
  },
  {
   "cell_type": "code",
   "execution_count": 70,
   "id": "8e0ba3f8-cd70-414a-9932-1d641d1959cf",
   "metadata": {},
   "outputs": [
    {
     "name": "stdout",
     "output_type": "stream",
     "text": [
      "Node properties:\n",
      "Person {id: STRING}\n",
      "Occupation {id: STRING}\n",
      "School {id: STRING}\n",
      "House {id: STRING}\n",
      "Object {id: STRING}\n",
      "Relationship properties:\n",
      "\n",
      "The relationships:\n",
      "(:Person)-[:HAS_OCCUPATION]->(:Occupation)\n",
      "(:Person)-[:STUDIES_AT]->(:School)\n",
      "(:Person)-[:HAS_FRIEND]->(:Person)\n",
      "(:Person)-[:BELONGS_TO]->(:House)\n",
      "(:Person)-[:RIVAL_OF]->(:Person)\n",
      "(:Person)-[:PARENT_OF]->(:Person)\n",
      "(:Person)-[:OWNS]->(:Object)\n",
      "(:Person)-[:KILLED_BY]->(:Person)\n"
     ]
    }
   ],
   "source": [
    "graph.refresh_schema()\n",
    "print(graph.schema)"
   ]
  },
  {
   "cell_type": "markdown",
   "id": "38de403b-09db-422b-b2f4-01d966b7b42c",
   "metadata": {},
   "source": [
    "# Chain"
   ]
  },
  {
   "cell_type": "code",
   "execution_count": 74,
   "id": "c7b1d744-4392-4aa2-a4c3-6c03b26827ca",
   "metadata": {},
   "outputs": [],
   "source": [
    "chain = GraphCypherQAChain.from_llm(graph=graph, llm=llm, verbose=True, allow_dangerous_requests = True)"
   ]
  },
  {
   "cell_type": "code",
   "execution_count": 75,
   "id": "3128b64e-7827-4f6d-b262-6be8afec1460",
   "metadata": {},
   "outputs": [
    {
     "name": "stdout",
     "output_type": "stream",
     "text": [
      "\n",
      "\n",
      "\u001b[1m> Entering new GraphCypherQAChain chain...\u001b[0m\n",
      "Generated Cypher:\n",
      "\u001b[32;1m\u001b[1;3mMATCH (p:Person {id: \"Harry Potter\"})-[:HAS_FRIEND]->(friend)\n",
      "RETURN friend\u001b[0m\n",
      "Full Context:\n",
      "\u001b[32;1m\u001b[1;3m[{'friend': {'id': 'Hermione Granger'}}, {'friend': {'id': 'Ron Weasley'}}]\u001b[0m\n",
      "\n",
      "\u001b[1m> Finished chain.\u001b[0m\n"
     ]
    },
    {
     "data": {
      "text/plain": [
       "{'query': 'Who are Harry Potter Friends. Show me how you conclude that',\n",
       " 'result': \"Harry Potter's friends are Hermione Granger and Ron Weasley.\"}"
      ]
     },
     "execution_count": 75,
     "metadata": {},
     "output_type": "execute_result"
    }
   ],
   "source": [
    "chain.invoke({\"query\": \"Who are Harry Potter Friends. Show me how you conclude that\"})"
   ]
  },
  {
   "cell_type": "code",
   "execution_count": 76,
   "id": "209bc4f4-321c-4380-be4d-fa9b0edcb39c",
   "metadata": {},
   "outputs": [
    {
     "name": "stdout",
     "output_type": "stream",
     "text": [
      "\n",
      "\n",
      "\u001b[1m> Entering new GraphCypherQAChain chain...\u001b[0m\n",
      "Generated Cypher:\n",
      "\u001b[32;1m\u001b[1;3mMATCH (p:Person {id: 'Federer'}) RETURN p\u001b[0m\n",
      "Full Context:\n",
      "\u001b[32;1m\u001b[1;3m[]\u001b[0m\n",
      "\n",
      "\u001b[1m> Finished chain.\u001b[0m\n"
     ]
    },
    {
     "data": {
      "text/plain": [
       "{'query': 'Who is Federer', 'result': \"I don't know the answer.\"}"
      ]
     },
     "execution_count": 76,
     "metadata": {},
     "output_type": "execute_result"
    }
   ],
   "source": [
    "chain.invoke({\"query\": \"Who is Federer\"})"
   ]
  },
  {
   "cell_type": "code",
   "execution_count": null,
   "id": "5d3a38b9-49a3-47da-9088-972b2bff9a9e",
   "metadata": {},
   "outputs": [],
   "source": []
  }
 ],
 "metadata": {
  "kernelspec": {
   "display_name": "Python 3 (ipykernel)",
   "language": "python",
   "name": "python3"
  },
  "language_info": {
   "codemirror_mode": {
    "name": "ipython",
    "version": 3
   },
   "file_extension": ".py",
   "mimetype": "text/x-python",
   "name": "python",
   "nbconvert_exporter": "python",
   "pygments_lexer": "ipython3",
   "version": "3.11.10"
  }
 },
 "nbformat": 4,
 "nbformat_minor": 5
}
